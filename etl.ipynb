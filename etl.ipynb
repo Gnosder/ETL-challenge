{
 "metadata": {
  "language_info": {
   "codemirror_mode": {
    "name": "ipython",
    "version": 3
   },
   "file_extension": ".py",
   "mimetype": "text/x-python",
   "name": "python",
   "nbconvert_exporter": "python",
   "pygments_lexer": "ipython3",
   "version": "3.8.3-final"
  },
  "orig_nbformat": 2,
  "kernelspec": {
   "name": "python38364bitpythondataconda59958d2299a64d5398811f000ec7a188",
   "display_name": "Python 3.8.3 64-bit ('PythonData': conda)"
  }
 },
 "nbformat": 4,
 "nbformat_minor": 2,
 "cells": [
  {
   "cell_type": "code",
   "execution_count": 1,
   "metadata": {},
   "outputs": [],
   "source": [
    "# imports\n",
    "import pandas as pd\n",
    "from sqlalchemy import create_engine"
   ]
  },
  {
   "cell_type": "code",
   "execution_count": 10,
   "metadata": {},
   "outputs": [
    {
     "output_type": "execute_result",
     "data": {
      "text/plain": "   Unnamed: 0  Post Link    Type  \\\n0           0   10348407  Answer   \n1           1   10483954  Answer   \n2           2   10499966  Answer   \n3           3   10312647  Answer   \n4           4   10374652  Answer   \n\n                                               Title  \\\n0  Use wxpython DrawText function to add text in ...   \n1                        Selenium grid 2 over cygwin   \n2  Issue with concatenation with delimiter formul...   \n3  Concatenate or print list elements with a trai...   \n4              Python: Exploring data of GUI program   \n\n                                            Markdown  \\\n0  When I run your code, I got an error as there ...   \n1  Through ssh, you only exchange with Windows st...   \n2  You are calling `SUBSTITUTE` on space characte...   \n3  If you are in Python 3, you could leverage the...   \n4  Let's wrap up this thread...\\r\\r\\n\\r\\r\\n`pywin...   \n\n                                                Tags              Created  \\\n0         <python><bitmap><wxpython><draw><drawtext>  2012-04-27 09:45:58   \n1                 <windows-7><cygwin><selenium-grid>  2012-05-07 14:34:44   \n2  <excel><excel-vba><excel-2007><excel-formula><...  2012-05-08 13:50:52   \n3                       <python><string><list><join>  2012-04-25 09:14:04   \n4                <python><user-interface><variables>  2012-04-29 18:12:49   \n\n             Last Edit      Edited By  Score  Favorites    Views  Answers  \\\n0                  NaN            NaN      0        NaN   1312.0      NaN   \n1                  NaN            NaN      2        NaN    438.0      NaN   \n2                  NaN            NaN      4        NaN    734.0      NaN   \n3  2012-04-25 11:44:45  Boud (624829)      6        NaN  18242.0      NaN   \n4                  NaN            NaN      1        NaN    271.0      NaN   \n\n   Accepted   CW Closed  \n0       NaN  NaN    NaN  \n1  Accepted  NaN    NaN  \n2       NaN  NaN    NaN  \n3       NaN  NaN    NaN  \n4  Accepted  NaN    NaN  ",
      "text/html": "<div>\n<style scoped>\n    .dataframe tbody tr th:only-of-type {\n        vertical-align: middle;\n    }\n\n    .dataframe tbody tr th {\n        vertical-align: top;\n    }\n\n    .dataframe thead th {\n        text-align: right;\n    }\n</style>\n<table border=\"1\" class=\"dataframe\">\n  <thead>\n    <tr style=\"text-align: right;\">\n      <th></th>\n      <th>Unnamed: 0</th>\n      <th>Post Link</th>\n      <th>Type</th>\n      <th>Title</th>\n      <th>Markdown</th>\n      <th>Tags</th>\n      <th>Created</th>\n      <th>Last Edit</th>\n      <th>Edited By</th>\n      <th>Score</th>\n      <th>Favorites</th>\n      <th>Views</th>\n      <th>Answers</th>\n      <th>Accepted</th>\n      <th>CW</th>\n      <th>Closed</th>\n    </tr>\n  </thead>\n  <tbody>\n    <tr>\n      <th>0</th>\n      <td>0</td>\n      <td>10348407</td>\n      <td>Answer</td>\n      <td>Use wxpython DrawText function to add text in ...</td>\n      <td>When I run your code, I got an error as there ...</td>\n      <td>&lt;python&gt;&lt;bitmap&gt;&lt;wxpython&gt;&lt;draw&gt;&lt;drawtext&gt;</td>\n      <td>2012-04-27 09:45:58</td>\n      <td>NaN</td>\n      <td>NaN</td>\n      <td>0</td>\n      <td>NaN</td>\n      <td>1312.0</td>\n      <td>NaN</td>\n      <td>NaN</td>\n      <td>NaN</td>\n      <td>NaN</td>\n    </tr>\n    <tr>\n      <th>1</th>\n      <td>1</td>\n      <td>10483954</td>\n      <td>Answer</td>\n      <td>Selenium grid 2 over cygwin</td>\n      <td>Through ssh, you only exchange with Windows st...</td>\n      <td>&lt;windows-7&gt;&lt;cygwin&gt;&lt;selenium-grid&gt;</td>\n      <td>2012-05-07 14:34:44</td>\n      <td>NaN</td>\n      <td>NaN</td>\n      <td>2</td>\n      <td>NaN</td>\n      <td>438.0</td>\n      <td>NaN</td>\n      <td>Accepted</td>\n      <td>NaN</td>\n      <td>NaN</td>\n    </tr>\n    <tr>\n      <th>2</th>\n      <td>2</td>\n      <td>10499966</td>\n      <td>Answer</td>\n      <td>Issue with concatenation with delimiter formul...</td>\n      <td>You are calling `SUBSTITUTE` on space characte...</td>\n      <td>&lt;excel&gt;&lt;excel-vba&gt;&lt;excel-2007&gt;&lt;excel-formula&gt;&lt;...</td>\n      <td>2012-05-08 13:50:52</td>\n      <td>NaN</td>\n      <td>NaN</td>\n      <td>4</td>\n      <td>NaN</td>\n      <td>734.0</td>\n      <td>NaN</td>\n      <td>NaN</td>\n      <td>NaN</td>\n      <td>NaN</td>\n    </tr>\n    <tr>\n      <th>3</th>\n      <td>3</td>\n      <td>10312647</td>\n      <td>Answer</td>\n      <td>Concatenate or print list elements with a trai...</td>\n      <td>If you are in Python 3, you could leverage the...</td>\n      <td>&lt;python&gt;&lt;string&gt;&lt;list&gt;&lt;join&gt;</td>\n      <td>2012-04-25 09:14:04</td>\n      <td>2012-04-25 11:44:45</td>\n      <td>Boud (624829)</td>\n      <td>6</td>\n      <td>NaN</td>\n      <td>18242.0</td>\n      <td>NaN</td>\n      <td>NaN</td>\n      <td>NaN</td>\n      <td>NaN</td>\n    </tr>\n    <tr>\n      <th>4</th>\n      <td>4</td>\n      <td>10374652</td>\n      <td>Answer</td>\n      <td>Python: Exploring data of GUI program</td>\n      <td>Let's wrap up this thread...\\r\\r\\n\\r\\r\\n`pywin...</td>\n      <td>&lt;python&gt;&lt;user-interface&gt;&lt;variables&gt;</td>\n      <td>2012-04-29 18:12:49</td>\n      <td>NaN</td>\n      <td>NaN</td>\n      <td>1</td>\n      <td>NaN</td>\n      <td>271.0</td>\n      <td>NaN</td>\n      <td>Accepted</td>\n      <td>NaN</td>\n      <td>NaN</td>\n    </tr>\n  </tbody>\n</table>\n</div>"
     },
     "metadata": {},
     "execution_count": 10
    }
   ],
   "source": [
    "# Pandas CSV\n",
    "csv_file = \"data/SO_pandas.csv\"\n",
    "so_pandas_df = pd.read_csv(csv_file)\n",
    "so_pandas_df.head()"
   ]
  },
  {
   "cell_type": "code",
   "execution_count": 13,
   "metadata": {},
   "outputs": [
    {
     "output_type": "execute_result",
     "data": {
      "text/plain": "    Id  OwnerUserId          CreationDate  ParentId  Score  \\\n0  497         50.0  2008-08-02T16:56:53Z       469      4   \n1  518        153.0  2008-08-02T17:42:28Z       469      2   \n2  536        161.0  2008-08-02T18:49:07Z       502      9   \n3  538        156.0  2008-08-02T18:56:56Z       535     23   \n4  541        157.0  2008-08-02T19:06:40Z       535     20   \n\n                                                Body  \n0  <p>open up a terminal (Applications-&gt;Utilit...  \n1  <p>I haven't been able to find anything that d...  \n2  <p>You can use ImageMagick's convert utility f...  \n3  <p>One possibility is Hudson.  It's written in...  \n4  <p>We run <a href=\"http://buildbot.net/trac\">B...  ",
      "text/html": "<div>\n<style scoped>\n    .dataframe tbody tr th:only-of-type {\n        vertical-align: middle;\n    }\n\n    .dataframe tbody tr th {\n        vertical-align: top;\n    }\n\n    .dataframe thead th {\n        text-align: right;\n    }\n</style>\n<table border=\"1\" class=\"dataframe\">\n  <thead>\n    <tr style=\"text-align: right;\">\n      <th></th>\n      <th>Id</th>\n      <th>OwnerUserId</th>\n      <th>CreationDate</th>\n      <th>ParentId</th>\n      <th>Score</th>\n      <th>Body</th>\n    </tr>\n  </thead>\n  <tbody>\n    <tr>\n      <th>0</th>\n      <td>497</td>\n      <td>50.0</td>\n      <td>2008-08-02T16:56:53Z</td>\n      <td>469</td>\n      <td>4</td>\n      <td>&lt;p&gt;open up a terminal (Applications-&amp;gt;Utilit...</td>\n    </tr>\n    <tr>\n      <th>1</th>\n      <td>518</td>\n      <td>153.0</td>\n      <td>2008-08-02T17:42:28Z</td>\n      <td>469</td>\n      <td>2</td>\n      <td>&lt;p&gt;I haven't been able to find anything that d...</td>\n    </tr>\n    <tr>\n      <th>2</th>\n      <td>536</td>\n      <td>161.0</td>\n      <td>2008-08-02T18:49:07Z</td>\n      <td>502</td>\n      <td>9</td>\n      <td>&lt;p&gt;You can use ImageMagick's convert utility f...</td>\n    </tr>\n    <tr>\n      <th>3</th>\n      <td>538</td>\n      <td>156.0</td>\n      <td>2008-08-02T18:56:56Z</td>\n      <td>535</td>\n      <td>23</td>\n      <td>&lt;p&gt;One possibility is Hudson.  It's written in...</td>\n    </tr>\n    <tr>\n      <th>4</th>\n      <td>541</td>\n      <td>157.0</td>\n      <td>2008-08-02T19:06:40Z</td>\n      <td>535</td>\n      <td>20</td>\n      <td>&lt;p&gt;We run &lt;a href=\"http://buildbot.net/trac\"&gt;B...</td>\n    </tr>\n  </tbody>\n</table>\n</div>"
     },
     "metadata": {},
     "execution_count": 13
    }
   ],
   "source": [
    "# Python Answers CSV\n",
    "csv_file ='data/Answers_small1.csv'\n",
    "so_python_answers_df = pd.read_csv(csv_file, encoding='utf-8')\n",
    "so_python_answers_df.head()"
   ]
  },
  {
   "cell_type": "code",
   "execution_count": 15,
   "metadata": {},
   "outputs": [
    {
     "output_type": "execute_result",
     "data": {
      "text/plain": "    Id  OwnerUserId          CreationDate  Score  \\\n0  469        147.0  2008-08-02T15:11:16Z     21   \n1  502        147.0  2008-08-02T17:01:58Z     27   \n2  535        154.0  2008-08-02T18:43:54Z     40   \n3  594        116.0  2008-08-03T01:15:08Z     25   \n4  683        199.0  2008-08-03T13:19:16Z     28   \n\n                                               Title  \\\n0  How can I find the full path to a font from it...   \n1            Get a preview JPEG of a PDF on Windows?   \n2  Continuous Integration System for a Python Cod...   \n3     cx_Oracle: How do I iterate over a result set?   \n4  Using 'in' to match an attribute of Python obj...   \n\n                                                Body  \n0  <p>I am using the Photoshop's javascript API t...  \n1  <p>I have a cross-platform (Python) applicatio...  \n2  <p>I'm starting work on a hobby project with a...  \n3  <p>There are several ways to iterate over a re...  \n4  <p>I don't remember whether I was dreaming or ...  ",
      "text/html": "<div>\n<style scoped>\n    .dataframe tbody tr th:only-of-type {\n        vertical-align: middle;\n    }\n\n    .dataframe tbody tr th {\n        vertical-align: top;\n    }\n\n    .dataframe thead th {\n        text-align: right;\n    }\n</style>\n<table border=\"1\" class=\"dataframe\">\n  <thead>\n    <tr style=\"text-align: right;\">\n      <th></th>\n      <th>Id</th>\n      <th>OwnerUserId</th>\n      <th>CreationDate</th>\n      <th>Score</th>\n      <th>Title</th>\n      <th>Body</th>\n    </tr>\n  </thead>\n  <tbody>\n    <tr>\n      <th>0</th>\n      <td>469</td>\n      <td>147.0</td>\n      <td>2008-08-02T15:11:16Z</td>\n      <td>21</td>\n      <td>How can I find the full path to a font from it...</td>\n      <td>&lt;p&gt;I am using the Photoshop's javascript API t...</td>\n    </tr>\n    <tr>\n      <th>1</th>\n      <td>502</td>\n      <td>147.0</td>\n      <td>2008-08-02T17:01:58Z</td>\n      <td>27</td>\n      <td>Get a preview JPEG of a PDF on Windows?</td>\n      <td>&lt;p&gt;I have a cross-platform (Python) applicatio...</td>\n    </tr>\n    <tr>\n      <th>2</th>\n      <td>535</td>\n      <td>154.0</td>\n      <td>2008-08-02T18:43:54Z</td>\n      <td>40</td>\n      <td>Continuous Integration System for a Python Cod...</td>\n      <td>&lt;p&gt;I'm starting work on a hobby project with a...</td>\n    </tr>\n    <tr>\n      <th>3</th>\n      <td>594</td>\n      <td>116.0</td>\n      <td>2008-08-03T01:15:08Z</td>\n      <td>25</td>\n      <td>cx_Oracle: How do I iterate over a result set?</td>\n      <td>&lt;p&gt;There are several ways to iterate over a re...</td>\n    </tr>\n    <tr>\n      <th>4</th>\n      <td>683</td>\n      <td>199.0</td>\n      <td>2008-08-03T13:19:16Z</td>\n      <td>28</td>\n      <td>Using 'in' to match an attribute of Python obj...</td>\n      <td>&lt;p&gt;I don't remember whether I was dreaming or ...</td>\n    </tr>\n  </tbody>\n</table>\n</div>"
     },
     "metadata": {},
     "execution_count": 15
    }
   ],
   "source": [
    "# Python Questions CSV\n",
    "csv_file ='data/Questions_small.csv'\n",
    "so_python_questions_df = pd.read_csv(csv_file, encoding='latin-1')\n",
    "so_python_questions_df.head()"
   ]
  },
  {
   "cell_type": "code",
   "execution_count": 5,
   "metadata": {},
   "outputs": [
    {
     "output_type": "execute_result",
     "data": {
      "text/plain": "    Id        Tag\n0  469     python\n1  469        osx\n2  469      fonts\n3  469  photoshop\n4  502     python",
      "text/html": "<div>\n<style scoped>\n    .dataframe tbody tr th:only-of-type {\n        vertical-align: middle;\n    }\n\n    .dataframe tbody tr th {\n        vertical-align: top;\n    }\n\n    .dataframe thead th {\n        text-align: right;\n    }\n</style>\n<table border=\"1\" class=\"dataframe\">\n  <thead>\n    <tr style=\"text-align: right;\">\n      <th></th>\n      <th>Id</th>\n      <th>Tag</th>\n    </tr>\n  </thead>\n  <tbody>\n    <tr>\n      <th>0</th>\n      <td>469</td>\n      <td>python</td>\n    </tr>\n    <tr>\n      <th>1</th>\n      <td>469</td>\n      <td>osx</td>\n    </tr>\n    <tr>\n      <th>2</th>\n      <td>469</td>\n      <td>fonts</td>\n    </tr>\n    <tr>\n      <th>3</th>\n      <td>469</td>\n      <td>photoshop</td>\n    </tr>\n    <tr>\n      <th>4</th>\n      <td>502</td>\n      <td>python</td>\n    </tr>\n  </tbody>\n</table>\n</div>"
     },
     "metadata": {},
     "execution_count": 5
    }
   ],
   "source": [
    "# Python Tags CSV\n",
    "csv_file ='data/Tags.csv'\n",
    "so_python_tags_df = pd.read_csv(csv_file, encoding='latin-1')\n",
    "so_python_tags_df.head()"
   ]
  },
  {
   "cell_type": "code",
   "execution_count": null,
   "metadata": {},
   "outputs": [],
   "source": []
  }
 ]
}